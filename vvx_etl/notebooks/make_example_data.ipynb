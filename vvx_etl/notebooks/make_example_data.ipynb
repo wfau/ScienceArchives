{
 "cells": [
  {
   "cell_type": "code",
   "execution_count": 1,
   "id": "1e900750",
   "metadata": {},
   "outputs": [
    {
     "name": "stderr",
     "output_type": "stream",
     "text": [
      "Warning: Ignoring non-Spark config property: javax.jdo.option.ConnectionURL\n",
      "Setting default log level to \"WARN\".\n",
      "To adjust logging level use sc.setLogLevel(newLevel). For SparkR, use setLogLevel(newLevel).\n",
      "25/05/29 11:08:38 WARN NativeCodeLoader: Unable to load native-hadoop library for your platform... using builtin-java classes where applicable\n",
      "25/05/29 11:08:39 WARN Utils: Service 'SparkUI' could not bind on port 4040. Attempting port 4041.\n"
     ]
    }
   ],
   "source": [
    "from etl.spark_singleton import SparkSingleton\n",
    "from pyspark.sql.functions import col, lit\n",
    "from pyspark.sql.functions import udf\n",
    "from pyspark.sql.types import DoubleType, BooleanType, IntegerType\n",
    "import seaborn as sns\n",
    "import matplotlib.pyplot as plt\n",
    "from collections.abc import Iterable\n",
    "\n",
    "spark = SparkSingleton.get_spark()"
   ]
  },
  {
   "cell_type": "markdown",
   "id": "90f3bdc0",
   "metadata": {},
   "source": [
    "### Import data"
   ]
  },
  {
   "cell_type": "code",
   "execution_count": 2,
   "id": "90ef1d6d",
   "metadata": {},
   "outputs": [],
   "source": [
    "DETECTION_PATH = \"../../../www-data/JoinedQPP\"\n",
    "SOURCE_PATH = \"../../../www-data/vvvSrc5\"\n",
    "VARIABILITY_PATH = \"../../../www-data/vvvVar\""
   ]
  },
  {
   "cell_type": "markdown",
   "id": "16c69ad9",
   "metadata": {},
   "source": [
    "#### Detection"
   ]
  },
  {
   "cell_type": "code",
   "execution_count": 3,
   "id": "131caaf2",
   "metadata": {},
   "outputs": [
    {
     "data": {
      "text/plain": [
       "43016907"
      ]
     },
     "execution_count": 3,
     "metadata": {},
     "output_type": "execute_result"
    }
   ],
   "source": [
    "detection = spark.read.parquet(DETECTION_PATH)\n",
    "detection.count()"
   ]
  },
  {
   "cell_type": "markdown",
   "id": "93052b3d",
   "metadata": {},
   "source": [
    "Validate that this only contains modulo 3:"
   ]
  },
  {
   "cell_type": "code",
   "execution_count": 4,
   "id": "ea9675ec",
   "metadata": {},
   "outputs": [
    {
     "data": {
      "text/plain": [
       "True"
      ]
     },
     "execution_count": 4,
     "metadata": {},
     "output_type": "execute_result"
    }
   ],
   "source": [
    "detection.select(col(\"sourceID\") % 2096 == 3).count() == detection.count()"
   ]
  },
  {
   "cell_type": "markdown",
   "id": "8c09b81c",
   "metadata": {},
   "source": [
    "#### Source"
   ]
  },
  {
   "cell_type": "code",
   "execution_count": 5,
   "id": "189ba304",
   "metadata": {},
   "outputs": [
    {
     "data": {
      "text/plain": [
       "264840"
      ]
     },
     "execution_count": 5,
     "metadata": {},
     "output_type": "execute_result"
    }
   ],
   "source": [
    "source = spark.read.parquet(SOURCE_PATH)\n",
    "source.count()"
   ]
  },
  {
   "cell_type": "code",
   "execution_count": 6,
   "id": "627d48cb",
   "metadata": {},
   "outputs": [
    {
     "data": {
      "text/plain": [
       "True"
      ]
     },
     "execution_count": 6,
     "metadata": {},
     "output_type": "execute_result"
    }
   ],
   "source": [
    "source.select(col(\"sourceID\") % 2096 == 3).count() == source.count()"
   ]
  },
  {
   "cell_type": "markdown",
   "id": "ea1594a2",
   "metadata": {},
   "source": [
    "#### Variability (for validation)"
   ]
  },
  {
   "cell_type": "code",
   "execution_count": 7,
   "id": "33c63e7c",
   "metadata": {},
   "outputs": [],
   "source": [
    "var = spark.read.parquet(VARIABILITY_PATH)"
   ]
  },
  {
   "cell_type": "code",
   "execution_count": 8,
   "id": "41ca989b",
   "metadata": {},
   "outputs": [
    {
     "data": {
      "text/plain": [
       "True"
      ]
     },
     "execution_count": 8,
     "metadata": {},
     "output_type": "execute_result"
    }
   ],
   "source": [
    "var.select(col(\"sourceID\") % 2096 == 3).count() == var.count()"
   ]
  },
  {
   "cell_type": "markdown",
   "id": "9e45929d",
   "metadata": {},
   "source": [
    "### Validate that all sources occur in detection and all detections match a source"
   ]
  },
  {
   "cell_type": "code",
   "execution_count": 9,
   "id": "6fc5fee5",
   "metadata": {},
   "outputs": [
    {
     "name": "stderr",
     "output_type": "stream",
     "text": [
      "                                                                                \r"
     ]
    }
   ],
   "source": [
    "source_source_ids = source.select(\"sourceID\").distinct().rdd.flatMap(lambda x: x).collect()\n",
    "detection_source_ids = detection.select(\"sourceID\").distinct().rdd.flatMap(lambda x: x).collect()"
   ]
  },
  {
   "cell_type": "markdown",
   "id": "eb96ec72",
   "metadata": {},
   "source": [
    "Number of source IDs that have no detections:"
   ]
  },
  {
   "cell_type": "code",
   "execution_count": 10,
   "id": "441fe8ca",
   "metadata": {},
   "outputs": [
    {
     "data": {
      "text/plain": [
       "34271"
      ]
     },
     "execution_count": 10,
     "metadata": {},
     "output_type": "execute_result"
    }
   ],
   "source": [
    "len(list(set(source_source_ids) - set(detection_source_ids)))"
   ]
  },
  {
   "cell_type": "markdown",
   "id": "51ea66b4",
   "metadata": {},
   "source": [
    "Number of detections where the source is not in the Source table:"
   ]
  },
  {
   "cell_type": "code",
   "execution_count": 11,
   "id": "39f2eb7c",
   "metadata": {},
   "outputs": [
    {
     "data": {
      "text/plain": [
       "0"
      ]
     },
     "execution_count": 11,
     "metadata": {},
     "output_type": "execute_result"
    }
   ],
   "source": [
    "len(list(set(detection_source_ids) - set(source_source_ids)))"
   ]
  },
  {
   "cell_type": "markdown",
   "id": "01a3c0b7",
   "metadata": {},
   "source": [
    "### Subset data"
   ]
  },
  {
   "cell_type": "code",
   "execution_count": 12,
   "id": "285893a5",
   "metadata": {},
   "outputs": [
    {
     "data": {
      "text/plain": [
       "313"
      ]
     },
     "execution_count": 12,
     "metadata": {},
     "output_type": "execute_result"
    }
   ],
   "source": [
    "source_subset = source.sample(fraction=0.001)\n",
    "source_subset.count()"
   ]
  },
  {
   "cell_type": "code",
   "execution_count": 13,
   "id": "3f455b40",
   "metadata": {},
   "outputs": [],
   "source": [
    "source_ids = source_subset.select(\"sourceID\").distinct().rdd.flatMap(lambda x: x).collect()\n",
    "var_subset = var.filter(var[\"sourceID\"].isin(source_ids))\n",
    "detection_subset = detection.filter(detection[\"sourceID\"].isin(source_ids))"
   ]
  },
  {
   "cell_type": "code",
   "execution_count": 14,
   "id": "82af7959",
   "metadata": {},
   "outputs": [
    {
     "data": {
      "text/plain": [
       "269"
      ]
     },
     "execution_count": 14,
     "metadata": {},
     "output_type": "execute_result"
    }
   ],
   "source": [
    "var_subset.count()"
   ]
  },
  {
   "cell_type": "markdown",
   "id": "92c072de",
   "metadata": {},
   "source": [
    "### Load"
   ]
  },
  {
   "cell_type": "code",
   "execution_count": 17,
   "id": "502001d5",
   "metadata": {},
   "outputs": [
    {
     "name": "stderr",
     "output_type": "stream",
     "text": [
      "                                                                                \r"
     ]
    }
   ],
   "source": [
    "source_subset.write.parquet(\"../example_data/source\", mode=\"overwrite\")"
   ]
  },
  {
   "cell_type": "code",
   "execution_count": 18,
   "id": "5cd83673",
   "metadata": {},
   "outputs": [],
   "source": [
    "var_subset.write.parquet(\"../example_data/variability\", mode=\"overwrite\")"
   ]
  },
  {
   "cell_type": "code",
   "execution_count": 19,
   "id": "b26fd38b",
   "metadata": {},
   "outputs": [
    {
     "name": "stderr",
     "output_type": "stream",
     "text": [
      "                                                                                \r"
     ]
    }
   ],
   "source": [
    "detection_subset.write.parquet(\"../example_data/detection\", mode=\"overwrite\")"
   ]
  },
  {
   "cell_type": "code",
   "execution_count": null,
   "id": "c37e6cdd",
   "metadata": {},
   "outputs": [],
   "source": []
  }
 ],
 "metadata": {
  "kernelspec": {
   "display_name": "spark355",
   "language": "python",
   "name": "python3"
  },
  "language_info": {
   "codemirror_mode": {
    "name": "ipython",
    "version": 3
   },
   "file_extension": ".py",
   "mimetype": "text/x-python",
   "name": "python",
   "nbconvert_exporter": "python",
   "pygments_lexer": "ipython3",
   "version": "3.9.21"
  }
 },
 "nbformat": 4,
 "nbformat_minor": 5
}
